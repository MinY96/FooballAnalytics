{
 "cells": [
  {
   "cell_type": "code",
   "execution_count": 1,
   "metadata": {},
   "outputs": [],
   "source": [
    "import os\n",
    "os.chdir('..')\n",
    "import pandas as pd\n",
    "from Database import FootballDB"
   ]
  },
  {
   "cell_type": "markdown",
   "metadata": {},
   "source": [
    "- DB 인스턴스 생성"
   ]
  },
  {
   "cell_type": "code",
   "execution_count": 2,
   "metadata": {},
   "outputs": [],
   "source": [
    "db = FootballDB('localhost', 'postgres', 5432, 'alsdud12', 'football')"
   ]
  },
  {
   "cell_type": "markdown",
   "metadata": {},
   "source": [
    "1. 기본 정보"
   ]
  },
  {
   "cell_type": "code",
   "execution_count": 8,
   "metadata": {},
   "outputs": [
    {
     "name": "stdout",
     "output_type": "stream",
     "text": [
      "[('Premier League',)]\n"
     ]
    }
   ],
   "source": [
    "query = \"SELECT DISTINCT league FROM tbl_season ts ORDER BY league;\"\n",
    "row, cols = db.selectResult(query)\n",
    "print(row)"
   ]
  },
  {
   "cell_type": "code",
   "execution_count": null,
   "metadata": {},
   "outputs": [],
   "source": [
    "row"
   ]
  },
  {
   "cell_type": "code",
   "execution_count": null,
   "metadata": {},
   "outputs": [],
   "source": [
    "\"\"\"\n",
    "-- 전체 league 리스트\n",
    "select distinct league\n",
    "from tbl_season ts \n",
    "order by league \n",
    "\n",
    "-- 전체 season 리스트\n",
    "select distinct season \n",
    "from tbl_season ts\n",
    "order by season;\n",
    "\n",
    "-- 전체 team 리스트\n",
    "select distinct team\n",
    "from tbl_season ts\n",
    "order by team;\n",
    "\n",
    "-- 특정 season에 해당하는 team 리스트\n",
    "select team\n",
    "from tbl_season ts\n",
    "where season = '17-18'\n",
    "order by team;\n",
    "\n",
    "-- 특정 team이 소속되어 있던 season 리스트\n",
    "select season\n",
    "from tbl_season ts \n",
    "where team = 'Huddersfield'\n",
    "order by season\n",
    "\"\"\""
   ]
  }
 ],
 "metadata": {
  "kernelspec": {
   "display_name": "football_env",
   "language": "python",
   "name": "python3"
  },
  "language_info": {
   "codemirror_mode": {
    "name": "ipython",
    "version": 3
   },
   "file_extension": ".py",
   "mimetype": "text/x-python",
   "name": "python",
   "nbconvert_exporter": "python",
   "pygments_lexer": "ipython3",
   "version": "3.11.0"
  }
 },
 "nbformat": 4,
 "nbformat_minor": 2
}
