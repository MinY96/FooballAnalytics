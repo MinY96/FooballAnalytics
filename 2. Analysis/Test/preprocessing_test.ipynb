{
 "cells": [
  {
   "cell_type": "code",
   "execution_count": 1,
   "metadata": {},
   "outputs": [],
   "source": [
    "import os\n",
    "os.chdir('..')"
   ]
  },
  {
   "cell_type": "code",
   "execution_count": 2,
   "metadata": {},
   "outputs": [],
   "source": [
    "import pandas as pd\n",
    "from Preprocessing import MatchAnalyzer as ma\n",
    "from Database import FootballDB"
   ]
  },
  {
   "cell_type": "code",
   "execution_count": 3,
   "metadata": {},
   "outputs": [],
   "source": [
    "pd.options.display.max_columns=300"
   ]
  },
  {
   "cell_type": "markdown",
   "metadata": {},
   "source": [
    "### 1.1 데이터 경로 설정"
   ]
  },
  {
   "cell_type": "code",
   "execution_count": 4,
   "metadata": {},
   "outputs": [],
   "source": [
    "cur_path = os.getcwd()\n",
    "main_path = os.path.dirname(cur_path)"
   ]
  },
  {
   "cell_type": "code",
   "execution_count": 5,
   "metadata": {},
   "outputs": [],
   "source": [
    "source_path = os.path.join(main_path, '1. Data')\n",
    "prm_source_path = os.path.join(source_path, '1. Premier League')"
   ]
  },
  {
   "cell_type": "markdown",
   "metadata": {},
   "source": [
    "### 1.2 데이터 불러오기"
   ]
  },
  {
   "cell_type": "code",
   "execution_count": 6,
   "metadata": {},
   "outputs": [],
   "source": [
    "season_stat = {}\n",
    "seasons = (season for season in os.listdir(prm_source_path) if season!='info')\n",
    "for season in seasons:\n",
    "    if season not in season_stat:\n",
    "        season_stat[season] = {}    \n",
    "    season_stat_path = os.path.join(prm_source_path, season)\n",
    "    for stat in os.listdir(season_stat_path):\n",
    "        stat_nm = os.path.splitext(stat)[0]\n",
    "        file_path = os.path.join(season_stat_path, stat)\n",
    "        season_stat[season][stat_nm] = file_path"
   ]
  },
  {
   "cell_type": "markdown",
   "metadata": {},
   "source": [
    "### 2. 데이터 전처리 및 DB Insert"
   ]
  },
  {
   "cell_type": "code",
   "execution_count": 7,
   "metadata": {},
   "outputs": [],
   "source": [
    "db = FootballDB('localhost', 'postgres', 5432, 'alsdud12', 'football')"
   ]
  },
  {
   "cell_type": "code",
   "execution_count": 8,
   "metadata": {},
   "outputs": [
    {
     "name": "stdout",
     "output_type": "stream",
     "text": [
      "14-15\n",
      "15-16\n",
      "16-17\n",
      "17-18\n",
      "18-19\n",
      "19-20\n",
      "20-21\n",
      "21-22\n",
      "22-23\n",
      "23-24\n"
     ]
    }
   ],
   "source": [
    "league = 'Premier League'\n",
    "for season, datas in season_stat.items():\n",
    "    print(season)\n",
    "    match_data = pd.read_csv(datas['match'])\n",
    "    match_data.dropna(subset=['HomeTeam', 'AwayTeam'], how='any', axis=0, inplace=True) # 팀이름 결측치 행 제거\n",
    "    match_data['HomeTeam'] = match_data['HomeTeam'].apply(lambda x: x.replace(\"'\", \"\") if x.__contains__(\"'\") else x)\n",
    "    match_data['AwayTeam'] = match_data['AwayTeam'].apply(lambda x: x.replace(\"'\", \"\") if x.__contains__(\"'\") else x)\n",
    "    \n",
    "    dt_season_position = ma.season_position(league, season, match_data)\n",
    "    dt_season = ma.season(dt_season_position)\n",
    "    dt_season_match = ma.season_match_info(league, season, match_data)\n",
    "    dt_teams = dt_season[['team']]\n",
    "    \n",
    "    db.insertTable('tbl_season_position', dt_season_position)\n",
    "    db.insertTable('tbl_season', dt_season)\n",
    "    db.insertTable('tbl_season_match', dt_season_match)\n",
    "    db.insertTable('tbl_team', dt_teams, True, 'team')"
   ]
  },
  {
   "cell_type": "code",
   "execution_count": 13,
   "metadata": {},
   "outputs": [],
   "source": [
    "db.dropDB()\n",
    "db.createDB()\n",
    "db.createTables()"
   ]
  }
 ],
 "metadata": {
  "kernelspec": {
   "display_name": "football_env",
   "language": "python",
   "name": "python3"
  },
  "language_info": {
   "codemirror_mode": {
    "name": "ipython",
    "version": 3
   },
   "file_extension": ".py",
   "mimetype": "text/x-python",
   "name": "python",
   "nbconvert_exporter": "python",
   "pygments_lexer": "ipython3",
   "version": "3.11.0"
  }
 },
 "nbformat": 4,
 "nbformat_minor": 2
}
