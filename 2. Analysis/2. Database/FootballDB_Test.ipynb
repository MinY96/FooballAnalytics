{
 "cells": [
  {
   "cell_type": "markdown",
   "metadata": {},
   "source": [
    "1. 인스턴스 생성"
   ]
  },
  {
   "cell_type": "code",
   "execution_count": 1,
   "metadata": {},
   "outputs": [],
   "source": [
    "from FootballDB import FootballDB"
   ]
  },
  {
   "cell_type": "code",
   "execution_count": 2,
   "metadata": {},
   "outputs": [],
   "source": [
    "# 인스턴스 생성 시 db, table 생성(없을 경우)\n",
    "db = FootballDB('localhost', 'postgres', 5432, 'udmt', 'football')"
   ]
  },
  {
   "cell_type": "markdown",
   "metadata": {},
   "source": [
    "2. Database 생성, 제거"
   ]
  },
  {
   "cell_type": "code",
   "execution_count": 7,
   "metadata": {},
   "outputs": [],
   "source": [
    "# football 데이터베이스 생성\n",
    "db.createDB()"
   ]
  },
  {
   "cell_type": "code",
   "execution_count": 5,
   "metadata": {},
   "outputs": [],
   "source": [
    "# football 데이터베이스 제거\n",
    "db.dropDB()"
   ]
  },
  {
   "cell_type": "markdown",
   "metadata": {},
   "source": [
    "3. Table 생성, 제거"
   ]
  },
  {
   "cell_type": "code",
   "execution_count": 8,
   "metadata": {},
   "outputs": [],
   "source": [
    "# 설정된 Table 생성\n",
    "db.createTables()"
   ]
  },
  {
   "cell_type": "code",
   "execution_count": 3,
   "metadata": {},
   "outputs": [],
   "source": [
    "# 특정 Table 제거\n",
    "db.dropTable('tbl_season')"
   ]
  },
  {
   "cell_type": "code",
   "execution_count": 5,
   "metadata": {},
   "outputs": [
    {
     "name": "stdout",
     "output_type": "stream",
     "text": [
      "오류:  \"tbl_season\" 이름의 릴레이션(relation)이 이미 있습니다\n",
      "\n"
     ]
    }
   ],
   "source": [
    "# 특정 Table 생성\n",
    "cols = [('league','varchar(50)'), \n",
    "        ('season','varchar(50)'), \n",
    "        ('team','varchar(50)'), \n",
    "        ('manager','varchar(50)'), \n",
    "        ('captain','varchar(50)')]\n",
    "db.createTable('tbl_season', cols)"
   ]
  }
 ],
 "metadata": {
  "kernelspec": {
   "display_name": "football_env",
   "language": "python",
   "name": "python3"
  },
  "language_info": {
   "codemirror_mode": {
    "name": "ipython",
    "version": 3
   },
   "file_extension": ".py",
   "mimetype": "text/x-python",
   "name": "python",
   "nbconvert_exporter": "python",
   "pygments_lexer": "ipython3",
   "version": "3.10.13"
  }
 },
 "nbformat": 4,
 "nbformat_minor": 2
}
